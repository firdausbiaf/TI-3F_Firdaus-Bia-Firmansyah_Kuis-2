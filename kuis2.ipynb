{
 "cells": [
  {
   "cell_type": "code",
   "execution_count": 1,
   "metadata": {},
   "outputs": [],
   "source": [
    "# Mengimpor library yang dibutuhkan\n",
    "import numpy as np\n",
    "import pandas as pd\n",
    "import matplotlib.pyplot as plt\n",
    "import seaborn as sns"
   ]
  },
  {
   "cell_type": "code",
   "execution_count": 2,
   "metadata": {},
   "outputs": [
    {
     "data": {
      "text/html": [
       "<div>\n",
       "<style scoped>\n",
       "    .dataframe tbody tr th:only-of-type {\n",
       "        vertical-align: middle;\n",
       "    }\n",
       "\n",
       "    .dataframe tbody tr th {\n",
       "        vertical-align: top;\n",
       "    }\n",
       "\n",
       "    .dataframe thead th {\n",
       "        text-align: right;\n",
       "    }\n",
       "</style>\n",
       "<table border=\"1\" class=\"dataframe\">\n",
       "  <thead>\n",
       "    <tr style=\"text-align: right;\">\n",
       "      <th></th>\n",
       "      <th>id_ketua</th>\n",
       "      <th>id_anggota1</th>\n",
       "      <th>id_anggota2</th>\n",
       "      <th>id_anggota3</th>\n",
       "      <th>id_anggota4</th>\n",
       "      <th>id_anggota5</th>\n",
       "      <th>keterlibatan_vltr</th>\n",
       "      <th>jml_vltr_terlibat</th>\n",
       "      <th>tahun</th>\n",
       "      <th>skema</th>\n",
       "      <th>luaran_hki</th>\n",
       "      <th>jenis_luaran_hki</th>\n",
       "      <th>potensi_hki</th>\n",
       "      <th>luaran_lain</th>\n",
       "      <th>jenis_luaran_lain</th>\n",
       "      <th>status_luaran_lain</th>\n",
       "    </tr>\n",
       "  </thead>\n",
       "  <tbody>\n",
       "    <tr>\n",
       "      <th>0</th>\n",
       "      <td>7206</td>\n",
       "      <td>7214</td>\n",
       "      <td>6211</td>\n",
       "      <td>8602</td>\n",
       "      <td>7801</td>\n",
       "      <td>0</td>\n",
       "      <td>0</td>\n",
       "      <td>0</td>\n",
       "      <td>2019</td>\n",
       "      <td>1</td>\n",
       "      <td>1</td>\n",
       "      <td>1</td>\n",
       "      <td>2</td>\n",
       "      <td>0</td>\n",
       "      <td>3</td>\n",
       "      <td>1</td>\n",
       "    </tr>\n",
       "    <tr>\n",
       "      <th>1</th>\n",
       "      <td>7214</td>\n",
       "      <td>7109</td>\n",
       "      <td>8402</td>\n",
       "      <td>7903</td>\n",
       "      <td>9202</td>\n",
       "      <td>0</td>\n",
       "      <td>0</td>\n",
       "      <td>0</td>\n",
       "      <td>2019</td>\n",
       "      <td>1</td>\n",
       "      <td>1</td>\n",
       "      <td>1</td>\n",
       "      <td>2</td>\n",
       "      <td>0</td>\n",
       "      <td>3</td>\n",
       "      <td>1</td>\n",
       "    </tr>\n",
       "    <tr>\n",
       "      <th>2</th>\n",
       "      <td>5911</td>\n",
       "      <td>8201</td>\n",
       "      <td>8701</td>\n",
       "      <td>9101</td>\n",
       "      <td>9003</td>\n",
       "      <td>0</td>\n",
       "      <td>0</td>\n",
       "      <td>0</td>\n",
       "      <td>2019</td>\n",
       "      <td>1</td>\n",
       "      <td>1</td>\n",
       "      <td>1</td>\n",
       "      <td>2</td>\n",
       "      <td>0</td>\n",
       "      <td>3</td>\n",
       "      <td>1</td>\n",
       "    </tr>\n",
       "    <tr>\n",
       "      <th>3</th>\n",
       "      <td>8402</td>\n",
       "      <td>7702</td>\n",
       "      <td>8602</td>\n",
       "      <td>8903</td>\n",
       "      <td>8903</td>\n",
       "      <td>0</td>\n",
       "      <td>0</td>\n",
       "      <td>0</td>\n",
       "      <td>2019</td>\n",
       "      <td>1</td>\n",
       "      <td>1</td>\n",
       "      <td>1</td>\n",
       "      <td>2</td>\n",
       "      <td>0</td>\n",
       "      <td>3</td>\n",
       "      <td>1</td>\n",
       "    </tr>\n",
       "    <tr>\n",
       "      <th>4</th>\n",
       "      <td>8201</td>\n",
       "      <td>8305</td>\n",
       "      <td>5911</td>\n",
       "      <td>5903</td>\n",
       "      <td>8402</td>\n",
       "      <td>0</td>\n",
       "      <td>0</td>\n",
       "      <td>0</td>\n",
       "      <td>2019</td>\n",
       "      <td>1</td>\n",
       "      <td>1</td>\n",
       "      <td>1</td>\n",
       "      <td>2</td>\n",
       "      <td>0</td>\n",
       "      <td>3</td>\n",
       "      <td>1</td>\n",
       "    </tr>\n",
       "  </tbody>\n",
       "</table>\n",
       "</div>"
      ],
      "text/plain": [
       "   id_ketua  id_anggota1  id_anggota2  id_anggota3  id_anggota4  id_anggota5  \\\n",
       "0      7206         7214         6211         8602         7801            0   \n",
       "1      7214         7109         8402         7903         9202            0   \n",
       "2      5911         8201         8701         9101         9003            0   \n",
       "3      8402         7702         8602         8903         8903            0   \n",
       "4      8201         8305         5911         5903         8402            0   \n",
       "\n",
       "   keterlibatan_vltr  jml_vltr_terlibat  tahun  skema  luaran_hki  \\\n",
       "0                  0                  0   2019      1           1   \n",
       "1                  0                  0   2019      1           1   \n",
       "2                  0                  0   2019      1           1   \n",
       "3                  0                  0   2019      1           1   \n",
       "4                  0                  0   2019      1           1   \n",
       "\n",
       "   jenis_luaran_hki  potensi_hki  luaran_lain  jenis_luaran_lain  \\\n",
       "0                 1            2            0                  3   \n",
       "1                 1            2            0                  3   \n",
       "2                 1            2            0                  3   \n",
       "3                 1            2            0                  3   \n",
       "4                 1            2            0                  3   \n",
       "\n",
       "   status_luaran_lain  \n",
       "0                   1  \n",
       "1                   1  \n",
       "2                   1  \n",
       "3                   1  \n",
       "4                   1  "
      ]
     },
     "execution_count": 2,
     "metadata": {},
     "output_type": "execute_result"
    }
   ],
   "source": [
    "# Load data\n",
    "df = pd.read_excel('dataset_quiz.xlsx')\n",
    "\n",
    "df.head()\n"
   ]
  },
  {
   "cell_type": "code",
   "execution_count": 3,
   "metadata": {},
   "outputs": [
    {
     "data": {
      "text/html": [
       "<div>\n",
       "<style scoped>\n",
       "    .dataframe tbody tr th:only-of-type {\n",
       "        vertical-align: middle;\n",
       "    }\n",
       "\n",
       "    .dataframe tbody tr th {\n",
       "        vertical-align: top;\n",
       "    }\n",
       "\n",
       "    .dataframe thead th {\n",
       "        text-align: right;\n",
       "    }\n",
       "</style>\n",
       "<table border=\"1\" class=\"dataframe\">\n",
       "  <thead>\n",
       "    <tr style=\"text-align: right;\">\n",
       "      <th></th>\n",
       "      <th>id_ketua</th>\n",
       "      <th>id_anggota1</th>\n",
       "      <th>id_anggota2</th>\n",
       "      <th>id_anggota3</th>\n",
       "      <th>id_anggota4</th>\n",
       "      <th>id_anggota5</th>\n",
       "      <th>keterlibatan_vltr</th>\n",
       "      <th>jml_vltr_terlibat</th>\n",
       "      <th>tahun</th>\n",
       "      <th>skema</th>\n",
       "      <th>luaran_hki</th>\n",
       "      <th>jenis_luaran_hki</th>\n",
       "      <th>potensi_hki</th>\n",
       "      <th>luaran_lain</th>\n",
       "      <th>jenis_luaran_lain</th>\n",
       "      <th>status_luaran_lain</th>\n",
       "    </tr>\n",
       "  </thead>\n",
       "  <tbody>\n",
       "    <tr>\n",
       "      <th>0</th>\n",
       "      <td>7206</td>\n",
       "      <td>7214</td>\n",
       "      <td>6211</td>\n",
       "      <td>8602</td>\n",
       "      <td>7801</td>\n",
       "      <td>0</td>\n",
       "      <td>0</td>\n",
       "      <td>0</td>\n",
       "      <td>2019</td>\n",
       "      <td>1</td>\n",
       "      <td>1</td>\n",
       "      <td>1</td>\n",
       "      <td>2</td>\n",
       "      <td>0</td>\n",
       "      <td>3</td>\n",
       "      <td>1</td>\n",
       "    </tr>\n",
       "    <tr>\n",
       "      <th>1</th>\n",
       "      <td>7214</td>\n",
       "      <td>7109</td>\n",
       "      <td>8402</td>\n",
       "      <td>7903</td>\n",
       "      <td>9202</td>\n",
       "      <td>0</td>\n",
       "      <td>0</td>\n",
       "      <td>0</td>\n",
       "      <td>2019</td>\n",
       "      <td>1</td>\n",
       "      <td>1</td>\n",
       "      <td>1</td>\n",
       "      <td>2</td>\n",
       "      <td>0</td>\n",
       "      <td>3</td>\n",
       "      <td>1</td>\n",
       "    </tr>\n",
       "    <tr>\n",
       "      <th>2</th>\n",
       "      <td>5911</td>\n",
       "      <td>8201</td>\n",
       "      <td>8701</td>\n",
       "      <td>9101</td>\n",
       "      <td>9003</td>\n",
       "      <td>0</td>\n",
       "      <td>0</td>\n",
       "      <td>0</td>\n",
       "      <td>2019</td>\n",
       "      <td>1</td>\n",
       "      <td>1</td>\n",
       "      <td>1</td>\n",
       "      <td>2</td>\n",
       "      <td>0</td>\n",
       "      <td>3</td>\n",
       "      <td>1</td>\n",
       "    </tr>\n",
       "    <tr>\n",
       "      <th>3</th>\n",
       "      <td>8402</td>\n",
       "      <td>7702</td>\n",
       "      <td>8602</td>\n",
       "      <td>8903</td>\n",
       "      <td>8903</td>\n",
       "      <td>0</td>\n",
       "      <td>0</td>\n",
       "      <td>0</td>\n",
       "      <td>2019</td>\n",
       "      <td>1</td>\n",
       "      <td>1</td>\n",
       "      <td>1</td>\n",
       "      <td>2</td>\n",
       "      <td>0</td>\n",
       "      <td>3</td>\n",
       "      <td>1</td>\n",
       "    </tr>\n",
       "    <tr>\n",
       "      <th>4</th>\n",
       "      <td>8201</td>\n",
       "      <td>8305</td>\n",
       "      <td>5911</td>\n",
       "      <td>5903</td>\n",
       "      <td>8402</td>\n",
       "      <td>0</td>\n",
       "      <td>0</td>\n",
       "      <td>0</td>\n",
       "      <td>2019</td>\n",
       "      <td>1</td>\n",
       "      <td>1</td>\n",
       "      <td>1</td>\n",
       "      <td>2</td>\n",
       "      <td>0</td>\n",
       "      <td>3</td>\n",
       "      <td>1</td>\n",
       "    </tr>\n",
       "  </tbody>\n",
       "</table>\n",
       "</div>"
      ],
      "text/plain": [
       "   id_ketua  id_anggota1  id_anggota2  id_anggota3  id_anggota4  id_anggota5  \\\n",
       "0      7206         7214         6211         8602         7801            0   \n",
       "1      7214         7109         8402         7903         9202            0   \n",
       "2      5911         8201         8701         9101         9003            0   \n",
       "3      8402         7702         8602         8903         8903            0   \n",
       "4      8201         8305         5911         5903         8402            0   \n",
       "\n",
       "   keterlibatan_vltr  jml_vltr_terlibat  tahun  skema  luaran_hki  \\\n",
       "0                  0                  0   2019      1           1   \n",
       "1                  0                  0   2019      1           1   \n",
       "2                  0                  0   2019      1           1   \n",
       "3                  0                  0   2019      1           1   \n",
       "4                  0                  0   2019      1           1   \n",
       "\n",
       "   jenis_luaran_hki  potensi_hki  luaran_lain  jenis_luaran_lain  \\\n",
       "0                 1            2            0                  3   \n",
       "1                 1            2            0                  3   \n",
       "2                 1            2            0                  3   \n",
       "3                 1            2            0                  3   \n",
       "4                 1            2            0                  3   \n",
       "\n",
       "   status_luaran_lain  \n",
       "0                   1  \n",
       "1                   1  \n",
       "2                   1  \n",
       "3                   1  \n",
       "4                   1  "
      ]
     },
     "execution_count": 3,
     "metadata": {},
     "output_type": "execute_result"
    }
   ],
   "source": [
    "#memgubah data yang berisi na kemudian di isi angkal 0\n",
    "df = df.fillna(0)\n",
    "df.to_excel('dataset_quiz.xlsx', index=False)\n",
    "df.head()"
   ]
  },
  {
   "cell_type": "markdown",
   "metadata": {},
   "source": [
    "### No 1\n"
   ]
  },
  {
   "cell_type": "markdown",
   "metadata": {},
   "source": [
    "#### Box plot"
   ]
  },
  {
   "cell_type": "code",
   "execution_count": 4,
   "metadata": {},
   "outputs": [
    {
     "data": {
      "text/plain": [
       "<AxesSubplot: xlabel='tahun', ylabel='jml_vltr_terlibat'>"
      ]
     },
     "execution_count": 4,
     "metadata": {},
     "output_type": "execute_result"
    },
    {
     "data": {
      "image/png": "[encoded data removed]",
      "text/plain": [
       "<Figure size 640x480 with 1 Axes>"
      ]
     },
     "metadata": {},
     "output_type": "display_data"
    }
   ],
   "source": [
    "import seaborn as sns\n",
    "sns.boxplot(x=\"tahun\", y=\"jml_vltr_terlibat\", data=df)"
   ]
  },
  {
   "cell_type": "markdown",
   "metadata": {},
   "source": [
    "#### Bar plot"
   ]
  },
  {
   "cell_type": "code",
   "execution_count": 5,
   "metadata": {},
   "outputs": [
    {
     "data": {
      "text/plain": [
       "Text(0, 0.5, 'jml_vltr_terlibat')"
      ]
     },
     "execution_count": 5,
     "metadata": {},
     "output_type": "execute_result"
    },
    {
     "data": {
      "image/png": "[encoded data removed]",
      "text/plain": [
       "<Figure size 640x480 with 1 Axes>"
      ]
     },
     "metadata": {},
     "output_type": "display_data"
    }
   ],
   "source": [
    "plt.bar(df['tahun'],df['jml_vltr_terlibat'])\n",
    "plt.xlabel('tahun')\n",
    "plt.ylabel('jml_vltr_terlibat')"
   ]
  },
  {
   "cell_type": "markdown",
   "metadata": {},
   "source": [
    "#### Histogram"
   ]
  },
  {
   "cell_type": "code",
   "execution_count": 6,
   "metadata": {},
   "outputs": [
    {
     "data": {
      "image/png": "[encoded data removed]",
      "text/plain": [
       "<Figure size 1000x600 with 1 Axes>"
      ]
     },
     "metadata": {},
     "output_type": "display_data"
    }
   ],
   "source": [
    "df['jml_vltr_terlibat'].plot(kind='hist', figsize=(10, 6), bins=50)\n",
    "\n",
    "plt.ylabel('\\njumlah', size=14)\n",
    "plt.xlabel('\\nJumlah Volunteer Terlibat', size=14)\n",
    "plt.show()"
   ]
  },
  {
   "cell_type": "markdown",
   "metadata": {},
   "source": [
    "#### Pie Chart"
   ]
  },
  {
   "cell_type": "code",
   "execution_count": 7,
   "metadata": {},
   "outputs": [
    {
     "data": {
      "text/plain": [
       "<AxesSubplot: ylabel='keterlibatan_vltr'>"
      ]
     },
     "execution_count": 7,
     "metadata": {},
     "output_type": "execute_result"
    },
    {
     "data": {
      "image/png": "[encoded data removed]",
      "text/plain": [
       "<Figure size 640x480 with 1 Axes>"
      ]
     },
     "metadata": {},
     "output_type": "display_data"
    }
   ],
   "source": [
    "vol = df['keterlibatan_vltr'].value_counts()\n",
    "\n",
    "vol.plot.pie(y='keterlibatan_vltr', autopct = \"%.0f%%\")"
   ]
  },
  {
   "cell_type": "markdown",
   "metadata": {},
   "source": [
    "#### Scatter plot"
   ]
  },
  {
   "cell_type": "code",
   "execution_count": 8,
   "metadata": {},
   "outputs": [
    {
     "data": {
      "text/plain": [
       "Text(0, 0.5, 'jml_vltr_terlibat')"
      ]
     },
     "execution_count": 8,
     "metadata": {},
     "output_type": "execute_result"
    },
    {
     "data": {
      "image/png": "[encoded data removed]",
      "text/plain": [
       "<Figure size 640x480 with 1 Axes>"
      ]
     },
     "metadata": {},
     "output_type": "display_data"
    }
   ],
   "source": [
    "plt.scatter(df['tahun'],df['jml_vltr_terlibat'])\n",
    "plt.xlabel('tahun')\n",
    "plt.ylabel('jml_vltr_terlibat')"
   ]
  },
  {
   "cell_type": "markdown",
   "metadata": {},
   "source": [
    "### No 2 dan No 3"
   ]
  },
  {
   "cell_type": "code",
   "execution_count": 9,
   "metadata": {},
   "outputs": [
    {
     "data": {
      "text/html": [
       "<div>\n",
       "<style scoped>\n",
       "    .dataframe tbody tr th:only-of-type {\n",
       "        vertical-align: middle;\n",
       "    }\n",
       "\n",
       "    .dataframe tbody tr th {\n",
       "        vertical-align: top;\n",
       "    }\n",
       "\n",
       "    .dataframe thead th {\n",
       "        text-align: right;\n",
       "    }\n",
       "</style>\n",
       "<table border=\"1\" class=\"dataframe\">\n",
       "  <thead>\n",
       "    <tr style=\"text-align: right;\">\n",
       "      <th></th>\n",
       "      <th>id_ketua</th>\n",
       "      <th>id_anggota1</th>\n",
       "      <th>id_anggota2</th>\n",
       "      <th>id_anggota3</th>\n",
       "      <th>id_anggota4</th>\n",
       "      <th>id_anggota5</th>\n",
       "      <th>keterlibatan_vltr</th>\n",
       "      <th>jml_vltr_terlibat</th>\n",
       "      <th>tahun</th>\n",
       "      <th>skema</th>\n",
       "      <th>luaran_hki</th>\n",
       "      <th>jenis_luaran_hki</th>\n",
       "      <th>potensi_hki</th>\n",
       "      <th>luaran_lain</th>\n",
       "      <th>jenis_luaran_lain</th>\n",
       "      <th>status_luaran_lain</th>\n",
       "    </tr>\n",
       "  </thead>\n",
       "  <tbody>\n",
       "    <tr>\n",
       "      <th>0</th>\n",
       "      <td>7206</td>\n",
       "      <td>7214</td>\n",
       "      <td>6211</td>\n",
       "      <td>8602</td>\n",
       "      <td>7801</td>\n",
       "      <td>0</td>\n",
       "      <td>0</td>\n",
       "      <td>0</td>\n",
       "      <td>2019</td>\n",
       "      <td>1</td>\n",
       "      <td>1</td>\n",
       "      <td>1</td>\n",
       "      <td>2</td>\n",
       "      <td>0</td>\n",
       "      <td>3</td>\n",
       "      <td>1</td>\n",
       "    </tr>\n",
       "    <tr>\n",
       "      <th>1</th>\n",
       "      <td>7214</td>\n",
       "      <td>7109</td>\n",
       "      <td>8402</td>\n",
       "      <td>7903</td>\n",
       "      <td>9202</td>\n",
       "      <td>0</td>\n",
       "      <td>0</td>\n",
       "      <td>0</td>\n",
       "      <td>2019</td>\n",
       "      <td>1</td>\n",
       "      <td>1</td>\n",
       "      <td>1</td>\n",
       "      <td>2</td>\n",
       "      <td>0</td>\n",
       "      <td>3</td>\n",
       "      <td>1</td>\n",
       "    </tr>\n",
       "    <tr>\n",
       "      <th>2</th>\n",
       "      <td>5911</td>\n",
       "      <td>8201</td>\n",
       "      <td>8701</td>\n",
       "      <td>9101</td>\n",
       "      <td>9003</td>\n",
       "      <td>0</td>\n",
       "      <td>0</td>\n",
       "      <td>0</td>\n",
       "      <td>2019</td>\n",
       "      <td>1</td>\n",
       "      <td>1</td>\n",
       "      <td>1</td>\n",
       "      <td>2</td>\n",
       "      <td>0</td>\n",
       "      <td>3</td>\n",
       "      <td>1</td>\n",
       "    </tr>\n",
       "    <tr>\n",
       "      <th>3</th>\n",
       "      <td>8402</td>\n",
       "      <td>7702</td>\n",
       "      <td>8602</td>\n",
       "      <td>8903</td>\n",
       "      <td>8903</td>\n",
       "      <td>0</td>\n",
       "      <td>0</td>\n",
       "      <td>0</td>\n",
       "      <td>2019</td>\n",
       "      <td>1</td>\n",
       "      <td>1</td>\n",
       "      <td>1</td>\n",
       "      <td>2</td>\n",
       "      <td>0</td>\n",
       "      <td>3</td>\n",
       "      <td>1</td>\n",
       "    </tr>\n",
       "    <tr>\n",
       "      <th>4</th>\n",
       "      <td>8201</td>\n",
       "      <td>8305</td>\n",
       "      <td>5911</td>\n",
       "      <td>5903</td>\n",
       "      <td>8402</td>\n",
       "      <td>0</td>\n",
       "      <td>0</td>\n",
       "      <td>0</td>\n",
       "      <td>2019</td>\n",
       "      <td>1</td>\n",
       "      <td>1</td>\n",
       "      <td>1</td>\n",
       "      <td>2</td>\n",
       "      <td>0</td>\n",
       "      <td>3</td>\n",
       "      <td>1</td>\n",
       "    </tr>\n",
       "  </tbody>\n",
       "</table>\n",
       "</div>"
      ],
      "text/plain": [
       "   id_ketua  id_anggota1  id_anggota2  id_anggota3  id_anggota4  id_anggota5  \\\n",
       "0      7206         7214         6211         8602         7801            0   \n",
       "1      7214         7109         8402         7903         9202            0   \n",
       "2      5911         8201         8701         9101         9003            0   \n",
       "3      8402         7702         8602         8903         8903            0   \n",
       "4      8201         8305         5911         5903         8402            0   \n",
       "\n",
       "   keterlibatan_vltr  jml_vltr_terlibat  tahun  skema  luaran_hki  \\\n",
       "0                  0                  0   2019      1           1   \n",
       "1                  0                  0   2019      1           1   \n",
       "2                  0                  0   2019      1           1   \n",
       "3                  0                  0   2019      1           1   \n",
       "4                  0                  0   2019      1           1   \n",
       "\n",
       "   jenis_luaran_hki  potensi_hki  luaran_lain  jenis_luaran_lain  \\\n",
       "0                 1            2            0                  3   \n",
       "1                 1            2            0                  3   \n",
       "2                 1            2            0                  3   \n",
       "3                 1            2            0                  3   \n",
       "4                 1            2            0                  3   \n",
       "\n",
       "   status_luaran_lain  \n",
       "0                   1  \n",
       "1                   1  \n",
       "2                   1  \n",
       "3                   1  \n",
       "4                   1  "
      ]
     },
     "execution_count": 9,
     "metadata": {},
     "output_type": "execute_result"
    }
   ],
   "source": [
    "#Encode label pada beberapa kolom\n",
    "#mengubah data dari \n",
    "from sklearn.preprocessing import LabelEncoder\n",
    "encode = LabelEncoder()\n",
    "df['keterlibatan_vltr'] = encode.fit_transform(df['keterlibatan_vltr'])\n",
    "df['skema'] = encode.fit_transform(df['skema'])\n",
    "df['luaran_hki'] = encode.fit_transform(df['luaran_hki'])\n",
    "df['jenis_luaran_hki'] = encode.fit_transform(df['jenis_luaran_hki'])\n",
    "df['potensi_hki'] = encode.fit_transform(df['potensi_hki'])\n",
    "df['luaran_lain'] = encode.fit_transform(df['luaran_lain'])\n",
    "df['jenis_luaran_lain'] = encode.fit_transform(df['jenis_luaran_lain'])\n",
    "df['status_luaran_lain'] = encode.fit_transform(df['status_luaran_lain'])\n",
    "df.head()"
   ]
  },
  {
   "cell_type": "code",
   "execution_count": 10,
   "metadata": {},
   "outputs": [],
   "source": [
    "X = df.iloc[:,7:]\n",
    "\n",
    "y = df['keterlibatan_vltr']"
   ]
  },
  {
   "cell_type": "code",
   "execution_count": 11,
   "metadata": {},
   "outputs": [],
   "source": [
    "#training dan validasi data\n",
    "\n",
    "from sklearn.model_selection import train_test_split\n",
    "\n",
    "X_train, X_test, y_train, y_test = train_test_split(X, y, test_size=0.3, random_state=10)\n",
    "\n",
    "X_val, X_unseen, y_val, y_unseen = train_test_split(X_test, y_test, test_size=0.6, random_state=10)"
   ]
  },
  {
   "cell_type": "markdown",
   "metadata": {},
   "source": [
    "### NO 4"
   ]
  },
  {
   "cell_type": "code",
   "execution_count": 12,
   "metadata": {},
   "outputs": [
    {
     "name": "stdout",
     "output_type": "stream",
     "text": [
      "Hasil akurasi data train: 0.9661016949152542\n",
      "Hasil akurasi data test: 0.9615384615384616\n"
     ]
    }
   ],
   "source": [
    "from sklearn.naive_bayes import GaussianNB\n",
    "from sklearn.metrics import accuracy_score\n",
    "\n",
    "# Inisiasi obyek MultinomialNB\n",
    "gnb = GaussianNB()\n",
    "\n",
    "# Fit model\n",
    "# Label y harus dalam bentu 1D atau (n_samples,)\n",
    "gnb.fit(X_train, y_train)\n",
    "\n",
    "# Prediksi dengan data training\n",
    "y_train_pred = gnb.predict(X_train)\n",
    "\n",
    "# Evaluasi akurasi training\n",
    "acc_train = accuracy_score(y_train, y_train_pred)\n",
    "\n",
    "# Prediksi test data\n",
    "y_test_pred = gnb.predict(X_test)\n",
    "\n",
    "# Evaluasi model dengan metric akurasi\n",
    "acc_test = accuracy_score(y_test, y_test_pred)\n",
    "\n",
    "# Print hasil evaluasi\n",
    "print(f'Hasil akurasi data train: {acc_train}')\n",
    "print(f'Hasil akurasi data test: {acc_test}')"
   ]
  },
  {
   "cell_type": "code",
   "execution_count": 13,
   "metadata": {},
   "outputs": [
    {
     "name": "stdout",
     "output_type": "stream",
     "text": [
      "Test set accuracy: 1.00\n",
      "Test set accuracy: 1.0\n"
     ]
    }
   ],
   "source": [
    "from sklearn.tree import DecisionTreeClassifier\n",
    "from sklearn.metrics import accuracy_score, classification_report\n",
    "\n",
    "dt = DecisionTreeClassifier()\n",
    "dt.fit(X_train, y_train)\n",
    "\n",
    "# Memprediksi label set test\n",
    "y_pred_dt = dt.predict(X_test)\n",
    "\n",
    "# Menghitung set accuracy\n",
    "acc_dt = accuracy_score(y_test, y_pred_dt)\n",
    "print(\"Test set accuracy: {:.2f}\".format(acc_dt))\n",
    "print(f\"Test set accuracy: {acc_dt}\")"
   ]
  },
  {
   "cell_type": "markdown",
   "metadata": {},
   "source": [
    "### No 5"
   ]
  },
  {
   "cell_type": "code",
   "execution_count": 19,
   "metadata": {},
   "outputs": [],
   "source": [
    "#selesksi fitur\n",
    "A= df[['jml_vltr_terlibat','keterlibatan_vltr','tahun','skema','jenis_luaran_hki','luaran_lain','potensi_hki','status_luaran_lain','jenis_luaran_lain']]\n",
    "b = df['luaran_hki']\n",
    "\n",
    "#training data\n",
    "A_train, A_test, b_train, b_test = train_test_split(A, b, test_size=0.3, random_state=3)"
   ]
  },
  {
   "cell_type": "code",
   "execution_count": 20,
   "metadata": {},
   "outputs": [
    {
     "data": {
      "text/html": [
       "<style>#sk-container-id-1 {color: black;background-color: white;}#sk-container-id-1 pre{padding: 0;}#sk-container-id-1 div.sk-toggleable {background-color: white;}#sk-container-id-1 label.sk-toggleable__label {cursor: pointer;display: block;width: 100%;margin-bottom: 0;padding: 0.3em;box-sizing: border-box;text-align: center;}#sk-container-id-1 label.sk-toggleable__label-arrow:before {content: \"▸\";float: left;margin-right: 0.25em;color: #696969;}#sk-container-id-1 label.sk-toggleable__label-arrow:hover:before {color: black;}#sk-container-id-1 div.sk-estimator:hover label.sk-toggleable__label-arrow:before {color: black;}#sk-container-id-1 div.sk-toggleable__content {max-height: 0;max-width: 0;overflow: hidden;text-align: left;background-color: #f0f8ff;}#sk-container-id-1 div.sk-toggleable__content pre {margin: 0.2em;color: black;border-radius: 0.25em;background-color: #f0f8ff;}#sk-container-id-1 input.sk-toggleable__control:checked~div.sk-toggleable__content {max-height: 200px;max-width: 100%;overflow: auto;}#sk-container-id-1 input.sk-toggleable__control:checked~label.sk-toggleable__label-arrow:before {content: \"▾\";}#sk-container-id-1 div.sk-estimator input.sk-toggleable__control:checked~label.sk-toggleable__label {background-color: #d4ebff;}#sk-container-id-1 div.sk-label input.sk-toggleable__control:checked~label.sk-toggleable__label {background-color: #d4ebff;}#sk-container-id-1 input.sk-hidden--visually {border: 0;clip: rect(1px 1px 1px 1px);clip: rect(1px, 1px, 1px, 1px);height: 1px;margin: -1px;overflow: hidden;padding: 0;position: absolute;width: 1px;}#sk-container-id-1 div.sk-estimator {font-family: monospace;background-color: #f0f8ff;border: 1px dotted black;border-radius: 0.25em;box-sizing: border-box;margin-bottom: 0.5em;}#sk-container-id-1 div.sk-estimator:hover {background-color: #d4ebff;}#sk-container-id-1 div.sk-parallel-item::after {content: \"\";width: 100%;border-bottom: 1px solid gray;flex-grow: 1;}#sk-container-id-1 div.sk-label:hover label.sk-toggleable__label {background-color: #d4ebff;}#sk-container-id-1 div.sk-serial::before {content: \"\";position: absolute;border-left: 1px solid gray;box-sizing: border-box;top: 0;bottom: 0;left: 50%;z-index: 0;}#sk-container-id-1 div.sk-serial {display: flex;flex-direction: column;align-items: center;background-color: white;padding-right: 0.2em;padding-left: 0.2em;position: relative;}#sk-container-id-1 div.sk-item {position: relative;z-index: 1;}#sk-container-id-1 div.sk-parallel {display: flex;align-items: stretch;justify-content: center;background-color: white;position: relative;}#sk-container-id-1 div.sk-item::before, #sk-container-id-1 div.sk-parallel-item::before {content: \"\";position: absolute;border-left: 1px solid gray;box-sizing: border-box;top: 0;bottom: 0;left: 50%;z-index: -1;}#sk-container-id-1 div.sk-parallel-item {display: flex;flex-direction: column;z-index: 1;position: relative;background-color: white;}#sk-container-id-1 div.sk-parallel-item:first-child::after {align-self: flex-end;width: 50%;}#sk-container-id-1 div.sk-parallel-item:last-child::after {align-self: flex-start;width: 50%;}#sk-container-id-1 div.sk-parallel-item:only-child::after {width: 0;}#sk-container-id-1 div.sk-dashed-wrapped {border: 1px dashed gray;margin: 0 0.4em 0.5em 0.4em;box-sizing: border-box;padding-bottom: 0.4em;background-color: white;}#sk-container-id-1 div.sk-label label {font-family: monospace;font-weight: bold;display: inline-block;line-height: 1.2em;}#sk-container-id-1 div.sk-label-container {text-align: center;}#sk-container-id-1 div.sk-container {/* jupyter's `normalize.less` sets `[hidden] { display: none; }` but bootstrap.min.css set `[hidden] { display: none !important; }` so we also need the `!important` here to be able to override the default hidden behavior on the sphinx rendered scikit-learn.org. See: https://github.com/scikit-learn/scikit-learn/issues/21755 */display: inline-block !important;position: relative;}#sk-container-id-1 div.sk-text-repr-fallback {display: none;}</style><div id=\"sk-container-id-1\" class=\"sk-top-container\"><div class=\"sk-text-repr-fallback\"><pre>DecisionTreeRegressor(max_depth=8, min_samples_leaf=0.13, random_state=3)</pre><b>In a Jupyter environment, please rerun this cell to show the HTML representation or trust the notebook. <br />On GitHub, the HTML representation is unable to render, please try loading this page with nbviewer.org.</b></div><div class=\"sk-container\" hidden><div class=\"sk-item\"><div class=\"sk-estimator sk-toggleable\"><input class=\"sk-toggleable__control sk-hidden--visually\" id=\"sk-estimator-id-1\" type=\"checkbox\" checked><label for=\"sk-estimator-id-1\" class=\"sk-toggleable__label sk-toggleable__label-arrow\">DecisionTreeRegressor</label><div class=\"sk-toggleable__content\"><pre>DecisionTreeRegressor(max_depth=8, min_samples_leaf=0.13, random_state=3)</pre></div></div></div></div></div>"
      ],
      "text/plain": [
       "DecisionTreeRegressor(max_depth=8, min_samples_leaf=0.13, random_state=3)"
      ]
     },
     "execution_count": 20,
     "metadata": {},
     "output_type": "execute_result"
    }
   ],
   "source": [
    "from sklearn.tree import DecisionTreeRegressor\n",
    "\n",
    "dt = DecisionTreeRegressor(max_depth=8,min_samples_leaf=0.13,random_state=3)\n",
    "dt.fit(A_train,b_train)\n",
    "\n",
    "DecisionTreeRegressor(max_depth=8,min_samples_leaf=0.13,random_state=3)"
   ]
  },
  {
   "cell_type": "code",
   "execution_count": 21,
   "metadata": {},
   "outputs": [
    {
     "name": "stdout",
     "output_type": "stream",
     "text": [
      "Test set Akurasi : 0.27\n"
     ]
    }
   ],
   "source": [
    "from sklearn.metrics import mean_squared_error\n",
    "\n",
    "#compute b_pred\n",
    "b_pred = dt.predict(A_test)\n",
    "\n",
    "#compute mse_dt\n",
    "mse_dt = mean_squared_error(b_test,b_pred)\n",
    "\n",
    "#compute rmse_dt\n",
    "rmse_dt = mse_dt ** (1/2)\n",
    "\n",
    "#Print rmse_dt\n",
    "print(\"Test set Akurasi : {:.2f}\".format(rmse_dt))"
   ]
  },
  {
   "cell_type": "markdown",
   "metadata": {},
   "source": [
    "### No 6"
   ]
  },
  {
   "cell_type": "code",
   "execution_count": null,
   "metadata": {},
   "outputs": [
    {
     "data": {
      "image/png": "[encoded data removed]",
      "text/plain": [
       "<Figure size 500x500 with 2 Axes>"
      ]
     },
     "metadata": {},
     "output_type": "display_data"
    }
   ],
   "source": [
    "#confusion matrix Decission Tree\n",
    "from sklearn.metrics import confusion_matrix\n",
    "cm_dt= confusion_matrix(y_test, y_test_pred)\n",
    "\n",
    "import seaborn as sns \n",
    "f, ax =plt.subplots(figsize = (5,5))\n",
    "\n",
    "sns.heatmap(cm_dt,annot = True, linewidths= 0.5, linecolor=\"red\", fmt=\".0f\", ax=ax)\n",
    "plt.xlabel(\"y_test_pred Gaussian\")\n",
    "plt.ylabel(\"y_test\")\n",
    "plt.show()"
   ]
  },
  {
   "cell_type": "code",
   "execution_count": null,
   "metadata": {},
   "outputs": [
    {
     "data": {
      "image/png": "[encoded data removed]",
      "text/plain": [
       "<Figure size 500x500 with 2 Axes>"
      ]
     },
     "metadata": {},
     "output_type": "display_data"
    }
   ],
   "source": [
    "#confusion matrix Decission Tree\n",
    "from sklearn.metrics import confusion_matrix\n",
    "cm_dt= confusion_matrix(y_test, y_pred_dt)\n",
    "\n",
    "import seaborn as sns \n",
    "f, ax =plt.subplots(figsize = (5,5))\n",
    "\n",
    "sns.heatmap(cm_dt,annot = True, linewidths= 0.5, linecolor=\"red\", fmt=\".0f\", ax=ax)\n",
    "plt.xlabel(\"y_test_pred Decision Tree\")\n",
    "plt.ylabel(\"y_test\")\n",
    "plt.show()"
   ]
  },
  {
   "cell_type": "code",
   "execution_count": null,
   "metadata": {},
   "outputs": [
    {
     "name": "stderr",
     "output_type": "stream",
     "text": [
      "No artists with labels found to put in legend.  Note that artists whose label start with an underscore are ignored when legend() is called with no argument.\n"
     ]
    },
    {
     "data": {
      "image/png": "[encoded data removed]",
      "text/plain": [
       "<Figure size 640x480 with 1 Axes>"
      ]
     },
     "metadata": {},
     "output_type": "display_data"
    }
   ],
   "source": [
    "from sklearn.metrics import roc_curve\n",
    "\n",
    "false_positive_rategnb, true_positive_rategnb, thresholdgnb = roc_curve(y_test, y_test_pred)\n",
    "false_positive_ratedt, true_positive_ratedt, thresholddt = roc_curve(y_test, y_pred_dt)\n",
    "\n",
    "plt.plot(false_positive_rategnb, true_positive_rategnb)\n",
    "plt.plot(false_positive_ratedt, true_positive_ratedt)\n",
    "\n",
    "plt.xlabel('False Positive Rate')\n",
    "plt.ylabel('True Positive Rate')\n",
    "plt.title('ROC Curve')\n",
    "plt.legend()\n",
    "plt.show()"
   ]
  },
  {
   "cell_type": "markdown",
   "metadata": {},
   "source": [
    "### No 7"
   ]
  },
  {
   "cell_type": "markdown",
   "metadata": {},
   "source": [
    "#### GridSearch"
   ]
  },
  {
   "cell_type": "code",
   "execution_count": null,
   "metadata": {},
   "outputs": [],
   "source": [
    "from sklearn.model_selection import RepeatedKFold\n",
    "\n",
    "# inisiasi repated k-fold\n",
    "cv = RepeatedKFold(n_splits=4, n_repeats=3, random_state=42)"
   ]
  },
  {
   "cell_type": "code",
   "execution_count": null,
   "metadata": {},
   "outputs": [
    {
     "name": "stdout",
     "output_type": "stream",
     "text": [
      "642 ms ± 71.8 ms per loop (mean ± std. dev. of 7 runs, 1 loop each)\n",
      "Hasil evaluasi: 1.0\n",
      "Konfigurasi hyperparameter: {'criterion': 'gini', 'max_depth': 5}\n"
     ]
    }
   ],
   "source": [
    "from sklearn.tree import DecisionTreeClassifier\n",
    "from sklearn.model_selection import GridSearchCV\n",
    "\n",
    "# inisiasi model\n",
    "dt = DecisionTreeClassifier()\n",
    "\n",
    "# Definisikan hyperparameter yang akan digunakan\n",
    "# sklearn menerima dalam bentuk dictionary\n",
    "# nama hyperparamater HARUS SESUAI dengan dokumentasi sklearn\n",
    "params = {\n",
    "    'criterion': ['gini', 'entropy', 'log_loss'],\n",
    "    'max_depth': list(range(5,11))\n",
    "}\n",
    "\n",
    "# inisiasi grid berdasarkan nilai repeated k-fold dan hyperparameter\n",
    "grid = GridSearchCV(dt, param_grid=params, cv=cv)\n",
    "\n",
    "# Fit / latih berdasarkan grid\n",
    "# %timeit merupakan magic command didalam ipython notebook\n",
    "# yang dapat kita gunakan untuk menghitung waktu komputasi\n",
    "# cara ini cukup efektif untuk melakukan evaluasi suatu algoritma atau prosedur\n",
    "%timeit grid.fit(X, y)\n",
    "\n",
    "# Evaluasi dengan score\n",
    "score = grid.score(X,y)\n",
    "\n",
    "print(f'Hasil evaluasi: {score}')\n",
    "print(f'Konfigurasi hyperparameter: {grid.best_params_}')"
   ]
  },
  {
   "cell_type": "markdown",
   "metadata": {},
   "source": [
    "#### RandomSearch"
   ]
  },
  {
   "cell_type": "code",
   "execution_count": null,
   "metadata": {},
   "outputs": [],
   "source": [
    "from sklearn.model_selection import RepeatedKFold\n",
    "\n",
    "# inisiasi repated k-fold\n",
    "cv = RepeatedKFold(n_splits=4, n_repeats=3, random_state=42)"
   ]
  },
  {
   "cell_type": "code",
   "execution_count": null,
   "metadata": {},
   "outputs": [
    {
     "name": "stdout",
     "output_type": "stream",
     "text": [
      "435 ms ± 63.4 ms per loop (mean ± std. dev. of 7 runs, 1 loop each)\n",
      "Hasil evaluasi: 1.0\n",
      "Konfigurasi hyperparameter: {'max_depth': 10, 'criterion': 'gini'}\n"
     ]
    }
   ],
   "source": [
    "from sklearn.tree import DecisionTreeClassifier\n",
    "from sklearn.model_selection import RandomizedSearchCV\n",
    "\n",
    "# inisiasi model\n",
    "dt = DecisionTreeClassifier()\n",
    "\n",
    "# Definisikan hyperparameter yang akan digunakan\n",
    "# sklearn menerima dalam bentuk dictionary\n",
    "# nama hyperparamater HARUS SESUAI dengan dokumentasi sklearn\n",
    "params = {\n",
    "    'criterion': ['gini', 'entropy', 'log_loss'],\n",
    "    'max_depth': list(range(5,11))\n",
    "}\n",
    "\n",
    "# inisiasi grid berdasarkan nilai repeated k-fold dan hyperparameter\n",
    "random = RandomizedSearchCV(dt, params, cv=cv)\n",
    "\n",
    "# Fit / latih berdasarkan grid\n",
    "# %timeit merupakan magic command didalam ipython notebook\n",
    "# yang dapat kita gunakan untuk menghitung waktu komputasi\n",
    "# cara ini cukup efektif untuk melakukan evaluasi suatu algoritma atau prosedur\n",
    "%timeit random.fit(X, y)\n",
    "\n",
    "# Evaluasi dengan score\n",
    "score = random.score(X,y)\n",
    "\n",
    "print(f'Hasil evaluasi: {score}')\n",
    "print(f'Konfigurasi hyperparameter: {random.best_params_}')"
   ]
  },
  {
   "cell_type": "markdown",
   "metadata": {},
   "source": [
    "#### Exhaustive"
   ]
  },
  {
   "cell_type": "code",
   "execution_count": null,
   "metadata": {},
   "outputs": [
    {
     "name": "stdout",
     "output_type": "stream",
     "text": [
      "454 ms ± 38.2 ms per loop (mean ± std. dev. of 7 runs, 1 loop each)\n",
      "Hasil evaluasi: 1.0\n"
     ]
    }
   ],
   "source": [
    "dt_manual = DecisionTreeClassifier(criterion='entropy', max_depth=3)\n",
    "\n",
    "%timeit random.fit(X, y)\n",
    "\n",
    "score = random.score(X,y)\n",
    "\n",
    "print(f'Hasil evaluasi: {score}')"
   ]
  },
  {
   "cell_type": "markdown",
   "metadata": {},
   "source": [
    "### No 8"
   ]
  },
  {
   "cell_type": "code",
   "execution_count": 25,
   "metadata": {},
   "outputs": [
    {
     "data": {
      "text/plain": [
       "([<matplotlib.patches.Wedge at 0x26426e97520>,\n",
       "  <matplotlib.patches.Wedge at 0x26426e97bb0>],\n",
       " [Text(0.03387456239334465, 1.0994782917468902, 'GNB'),\n",
       "  Text(-0.03387445945275778, -1.0994782949184507, 'decision tree')],\n",
       " [Text(0.018477034032733444, 0.59971543186194, '49%'),\n",
       "  Text(-0.01847697788332242, -0.5997154335918821, '51%')])"
      ]
     },
     "execution_count": 25,
     "metadata": {},
     "output_type": "execute_result"
    },
    {
     "data": {
      "image/png": "[encoded data removed]",
      "text/plain": [
       "<Figure size 640x480 with 1 Axes>"
      ]
     },
     "metadata": {},
     "output_type": "display_data"
    }
   ],
   "source": [
    "# visualisasi nomor 4\n",
    "\n",
    "no4 = (acc_test, acc_dt)\n",
    "label = 'GNB', 'decision tree'\n",
    "\n",
    "plt.pie(no4, labels=label, autopct = \"%.0f%%\")"
   ]
  },
  {
   "cell_type": "code",
   "execution_count": 27,
   "metadata": {},
   "outputs": [
    {
     "data": {
      "image/png": "[encoded data removed]",
      "text/plain": [
       "<Figure size 640x480 with 1 Axes>"
      ]
     },
     "metadata": {},
     "output_type": "display_data"
    }
   ],
   "source": [
    "# visualisasi nomor 5\n",
    "\n",
    "plt.hist(rmse_dt)\n",
    " \n",
    "plt.title(\"Prediksi\")\n",
    "\n",
    "plt.show()"
   ]
  }
 ],
 "metadata": {
  "kernelspec": {
   "display_name": "Python 3.9.13 64-bit (microsoft store)",
   "language": "python",
   "name": "python3"
  },
  "language_info": {
   "codemirror_mode": {
    "name": "ipython",
    "version": 3
   },
   "file_extension": ".py",
   "mimetype": "text/x-python",
   "name": "python",
   "nbconvert_exporter": "python",
   "pygments_lexer": "ipython3",
   "version": "3.9.13"
  },
  "orig_nbformat": 4,
  "vscode": {
   "interpreter": {
    "hash": "eeb20b8a8a18764ace2bafc8c79926e5eb1349982a646c81eb477aa85d22713d"
   }
  }
 },
 "nbformat": 4,
 "nbformat_minor": 2
}
